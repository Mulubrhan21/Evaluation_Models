{
 "cells": [
  {
   "cell_type": "code",
   "execution_count": 27,
   "id": "4ca0ba67-a588-48f5-a1ee-e128c5228f6c",
   "metadata": {},
   "outputs": [
    {
     "name": "stdout",
     "output_type": "stream",
     "text": [
      "Lab2:End to End Machine Learning Lab based Hands on Machine Learning\n"
     ]
    }
   ],
   "source": [
    "print(\"Lab2:End to End Machine Learning Lab based Hands on Machine Learning\")"
   ]
  },
  {
   "cell_type": "code",
   "execution_count": null,
   "id": "4a2291ca-a7a1-43c4-ac20-69fbc30fd78e",
   "metadata": {},
   "outputs": [],
   "source": [
    "1. Pipeline Setup and Data Preparation:"
   ]
  },
  {
   "cell_type": "code",
   "execution_count": 35,
   "id": "5c133b6d-a069-48de-abd6-cd525eb33b51",
   "metadata": {},
   "outputs": [],
   "source": [
    "from sklearn.pipeline import Pipeline\n",
    "from sklearn.compose import ColumnTransformer\n",
    "from sklearn.impute import SimpleImputer\n",
    "from sklearn.preprocessing import StandardScaler, OneHotEncoder\n",
    "import pandas as pd\n",
    "\n",
    "# Load and prepare data\n",
    "housing = load_housing_data()\n",
    "housing_labels = housing[\"median_house_value\"].copy()\n",
    "housing = housing.drop(\"median_house_value\", axis=1)\n",
    "\n",
    "# Define numerical and categorical columns\n",
    "numerical_cols = housing.drop(\"ocean_proximity\", axis=1).columns.tolist()\n",
    "categorical_cols = [\"ocean_proximity\"]\n",
    "\n",
    "# Pipelines for numerical and categorical features\n",
    "numerical_pipeline = Pipeline([\n",
    "    ('imputer', SimpleImputer(strategy='median')),\n",
    "    ('scaler', StandardScaler())\n",
    "])\n",
    "\n",
    "categorical_pipeline = Pipeline([\n",
    "    ('imputer', SimpleImputer(strategy='most_frequent')),\n",
    "    ('onehot', OneHotEncoder())\n",
    "])\n",
    "\n",
    "full_pipeline = ColumnTransformer([\n",
    "    ('num', numerical_pipeline, numerical_cols),\n",
    "    ('cat', categorical_pipeline, categorical_cols)\n",
    "])\n"
   ]
  },
  {
   "cell_type": "code",
   "execution_count": null,
   "id": "2c78bcfb-84e8-4d2b-9352-e40045d63668",
   "metadata": {},
   "outputs": [],
   "source": [
    "Training Linear Regression"
   ]
  },
  {
   "cell_type": "code",
   "execution_count": 37,
   "id": "31bc1e98-3f36-44fd-86c1-c0775d067657",
   "metadata": {},
   "outputs": [
    {
     "name": "stdout",
     "output_type": "stream",
     "text": [
      "Linear Regression RMSE scores: [68322.2895228  71617.53304345 66703.77728251 66862.12284484\n",
      " 70967.76069755 67815.95115572 68177.22148334 67726.15401846\n",
      " 70152.06354781 67595.0666803 ]\n",
      "Mean RMSE: 68593.99402767955\n",
      "Standard deviation of RMSE: 1624.2016401713722\n"
     ]
    }
   ],
   "source": [
    "from pathlib import Path\n",
    "import pandas as pd\n",
    "import tarfile\n",
    "import urllib.request\n",
    "from sklearn.pipeline import Pipeline\n",
    "from sklearn.compose import ColumnTransformer\n",
    "from sklearn.impute import SimpleImputer\n",
    "from sklearn.preprocessing import OneHotEncoder, StandardScaler\n",
    "from sklearn.linear_model import LinearRegression\n",
    "from sklearn.model_selection import train_test_split, cross_val_score\n",
    "import numpy as np\n",
    "\n",
    "# Step 1. Load dataset\n",
    "def load_housing_data():\n",
    "    tarball_path = Path(\"datasets/housing.tgz\")\n",
    "    if not tarball_path.is_file():\n",
    "        Path(\"datasets\").mkdir(parents=True, exist_ok=True)\n",
    "        url = \"https://github.com/ageron/data/raw/main/housing.tgz\"\n",
    "        urllib.request.urlretrieve(url, tarball_path)\n",
    "        with tarfile.open(tarball_path) as housing_tarball:\n",
    "            housing_tarball.extractall(path=\"datasets\")\n",
    "    return pd.read_csv(Path(\"datasets/housing/housing.csv\"))\n",
    "\n",
    "housing = load_housing_data()\n",
    "\n",
    "# Step 2. Separate features and target\n",
    "housing_labels = housing[\"median_house_value\"].copy()\n",
    "housing = housing.drop(\"median_house_value\", axis=1)\n",
    "\n",
    "# Step 3. Define pipelines\n",
    "numerical_cols = housing.drop(\"ocean_proximity\", axis=1).columns.tolist()\n",
    "categorical_cols = [\"ocean_proximity\"]\n",
    "\n",
    "numerical_pipeline = Pipeline([\n",
    "    ('imputer', SimpleImputer(strategy='median')),\n",
    "    ('scaler', StandardScaler())\n",
    "])\n",
    "\n",
    "categorical_pipeline = Pipeline([\n",
    "    ('imputer', SimpleImputer(strategy='most_frequent')),\n",
    "    ('onehot', OneHotEncoder())\n",
    "])\n",
    "\n",
    "full_pipeline = ColumnTransformer([\n",
    "    ('num', numerical_pipeline, numerical_cols),\n",
    "    ('cat', categorical_pipeline, categorical_cols)\n",
    "])\n",
    "\n",
    "# Step 4. Train Linear Regression model\n",
    "train_set, test_set, train_labels, test_labels = train_test_split(housing, housing_labels, test_size=0.2, random_state=42)\n",
    "\n",
    "linear_regression_pipeline = Pipeline([\n",
    "    ('preprocessor', full_pipeline),\n",
    "    ('model', LinearRegression())\n",
    "])\n",
    "\n",
    "linear_regression_pipeline.fit(train_set, train_labels)\n",
    "\n",
    "# Step 5. Evaluate using cross-validation\n",
    "scores = cross_val_score(linear_regression_pipeline, train_set, train_labels, scoring=\"neg_mean_squared_error\", cv=10)\n",
    "linear_regression_rmse_scores = np.sqrt(-scores)\n",
    "\n",
    "# Step 6. Print results\n",
    "print(\"Linear Regression RMSE scores:\", linear_regression_rmse_scores)\n",
    "print(\"Mean RMSE:\", linear_regression_rmse_scores.mean())\n",
    "print(\"Standard deviation of RMSE:\", linear_regression_rmse_scores.std())\n"
   ]
  },
  {
   "cell_type": "code",
   "execution_count": null,
   "id": "7720150f-aec7-48fb-b5a1-e75a0b3cce5a",
   "metadata": {},
   "outputs": [],
   "source": [
    "Training Decision Tree"
   ]
  },
  {
   "cell_type": "code",
   "execution_count": 38,
   "id": "84725b10-8003-41c7-847f-70d031f905d8",
   "metadata": {},
   "outputs": [
    {
     "name": "stdout",
     "output_type": "stream",
     "text": [
      "Decision Tree RMSE scores: [68981.63653009 70177.1891487  67833.27315992 67160.87924852\n",
      " 67411.17823459 68123.51833436 70216.47433738 65227.0656881\n",
      " 68559.59349623 69609.17300273]\n",
      "Mean RMSE: 68329.99811806064\n",
      "Standard deviation of RMSE: 1456.4741821393575\n"
     ]
    }
   ],
   "source": [
    "from pathlib import Path\n",
    "import pandas as pd\n",
    "import tarfile\n",
    "import urllib.request\n",
    "from sklearn.pipeline import Pipeline\n",
    "from sklearn.compose import ColumnTransformer\n",
    "from sklearn.impute import SimpleImputer\n",
    "from sklearn.preprocessing import OneHotEncoder, StandardScaler\n",
    "from sklearn.tree import DecisionTreeRegressor\n",
    "from sklearn.model_selection import train_test_split, cross_val_score\n",
    "import numpy as np\n",
    "\n",
    "# Step 1. Load dataset\n",
    "def load_housing_data():\n",
    "    tarball_path = Path(\"datasets/housing.tgz\")\n",
    "    if not tarball_path.is_file():\n",
    "        Path(\"datasets\").mkdir(parents=True, exist_ok=True)\n",
    "        url = \"https://github.com/ageron/data/raw/main/housing.tgz\"\n",
    "        urllib.request.urlretrieve(url, tarball_path)\n",
    "        with tarfile.open(tarball_path) as housing_tarball:\n",
    "            housing_tarball.extractall(path=\"datasets\")\n",
    "    return pd.read_csv(Path(\"datasets/housing/housing.csv\"))\n",
    "\n",
    "housing = load_housing_data()\n",
    "\n",
    "# Step 2. Separate features and target\n",
    "housing_labels = housing[\"median_house_value\"].copy()\n",
    "housing = housing.drop(\"median_house_value\", axis=1)\n",
    "\n",
    "# Step 3. Define pipelines\n",
    "numerical_cols = housing.drop(\"ocean_proximity\", axis=1).columns.tolist()\n",
    "categorical_cols = [\"ocean_proximity\"]\n",
    "\n",
    "numerical_pipeline = Pipeline([\n",
    "    ('imputer', SimpleImputer(strategy='median')),\n",
    "    ('scaler', StandardScaler())\n",
    "])\n",
    "\n",
    "categorical_pipeline = Pipeline([\n",
    "    ('imputer', SimpleImputer(strategy='most_frequent')),\n",
    "    ('onehot', OneHotEncoder())\n",
    "])\n",
    "\n",
    "full_pipeline = ColumnTransformer([\n",
    "    ('num', numerical_pipeline, numerical_cols),\n",
    "    ('cat', categorical_pipeline, categorical_cols)\n",
    "])\n",
    "\n",
    "# Step 4. Train Decision Tree model\n",
    "train_set, test_set, train_labels, test_labels = train_test_split(housing, housing_labels, test_size=0.2, random_state=42)\n",
    "\n",
    "decision_tree_pipeline = Pipeline([\n",
    "    ('preprocessor', full_pipeline),\n",
    "    ('model', DecisionTreeRegressor())\n",
    "])\n",
    "\n",
    "decision_tree_pipeline.fit(train_set, train_labels)\n",
    "\n",
    "# Step 3. Evaluate using cross-validation\n",
    "scores = cross_val_score(decision_tree_pipeline, train_set, train_labels, scoring=\"neg_mean_squared_error\", cv=10)\n",
    "decision_tree_rmse_scores = np.sqrt(-scores)\n",
    "\n",
    "# Step 4. Print results\n",
    "print(\"Decision Tree RMSE scores:\", decision_tree_rmse_scores)\n",
    "print(\"Mean RMSE:\", decision_tree_rmse_scores.mean())\n",
    "print(\"Standard deviation of RMSE:\", decision_tree_rmse_scores.std())\n"
   ]
  },
  {
   "cell_type": "code",
   "execution_count": null,
   "id": "b6510cc0-a614-436e-bc0f-40db25e1e692",
   "metadata": {},
   "outputs": [],
   "source": [
    "Training Random Forest"
   ]
  },
  {
   "cell_type": "code",
   "execution_count": 39,
   "id": "261ab2bc-973a-4b8d-ba94-22b30e6b4e3c",
   "metadata": {},
   "outputs": [
    {
     "name": "stdout",
     "output_type": "stream",
     "text": [
      "Random Forest RMSE scores: [48123.92658232 49785.50736553 48753.33198526 47122.19512757\n",
      " 50527.08703402 48570.80481369 48947.99720651 48469.82960353\n",
      " 50078.06307065 48114.65546117]\n",
      "Mean RMSE: 48849.33982502502\n",
      "Standard deviation of RMSE: 974.1961308504717\n"
     ]
    }
   ],
   "source": [
    "from pathlib import Path\n",
    "import pandas as pd\n",
    "import tarfile\n",
    "import urllib.request\n",
    "from sklearn.pipeline import Pipeline\n",
    "from sklearn.compose import ColumnTransformer\n",
    "from sklearn.impute import SimpleImputer\n",
    "from sklearn.preprocessing import OneHotEncoder, StandardScaler\n",
    "from sklearn.ensemble import RandomForestRegressor\n",
    "from sklearn.model_selection import train_test_split, cross_val_score\n",
    "import numpy as np\n",
    "\n",
    "# Step 1. Load dataset\n",
    "def load_housing_data():\n",
    "    tarball_path = Path(\"datasets/housing.tgz\")\n",
    "    if not tarball_path.is_file():\n",
    "        Path(\"datasets\").mkdir(parents=True, exist_ok=True)\n",
    "        url = \"https://github.com/ageron/data/raw/main/housing.tgz\"\n",
    "        urllib.request.urlretrieve(url, tarball_path)\n",
    "        with tarfile.open(tarball_path) as housing_tarball:\n",
    "            housing_tarball.extractall(path=\"datasets\")\n",
    "    return pd.read_csv(Path(\"datasets/housing/housing.csv\"))\n",
    "\n",
    "housing = load_housing_data()\n",
    "\n",
    "# Step 2. Separate features and target\n",
    "housing_labels = housing[\"median_house_value\"].copy()\n",
    "housing = housing.drop(\"median_house_value\", axis=1)\n",
    "\n",
    "# Step 3. Define pipelines\n",
    "numerical_cols = housing.drop(\"ocean_proximity\", axis=1).columns.tolist()\n",
    "categorical_cols = [\"ocean_proximity\"]\n",
    "\n",
    "numerical_pipeline = Pipeline([\n",
    "    ('imputer', SimpleImputer(strategy='median')),\n",
    "    ('scaler', StandardScaler())\n",
    "])\n",
    "\n",
    "categorical_pipeline = Pipeline([\n",
    "    ('imputer', SimpleImputer(strategy='most_frequent')),\n",
    "    ('onehot', OneHotEncoder())\n",
    "])\n",
    "\n",
    "full_pipeline = ColumnTransformer([\n",
    "    ('num', numerical_pipeline, numerical_cols),\n",
    "    ('cat', categorical_pipeline, categorical_cols)\n",
    "])\n",
    "\n",
    "# Step 4. Train Random Forest model\n",
    "train_set, test_set, train_labels, test_labels = train_test_split(housing, housing_labels, test_size=0.2, random_state=42)\n",
    "\n",
    "random_forest_pipeline = Pipeline([\n",
    "    ('preprocessor', full_pipeline),\n",
    "    ('model', RandomForestRegressor())\n",
    "])\n",
    "\n",
    "random_forest_pipeline.fit(train_set, train_labels)\n",
    "\n",
    "# Step 3. Evaluate using cross-validation\n",
    "scores = cross_val_score(random_forest_pipeline, train_set, train_labels, scoring=\"neg_mean_squared_error\", cv=10)\n",
    "random_forest_rmse_scores = np.sqrt(-scores)\n",
    "\n",
    "# Step 4. Print results\n",
    "print(\"Random Forest RMSE scores:\", random_forest_rmse_scores)\n",
    "print(\"Mean RMSE:\", random_forest_rmse_scores.mean())\n",
    "print(\"Standard deviation of RMSE:\", random_forest_rmse_scores.std())\n"
   ]
  },
  {
   "cell_type": "code",
   "execution_count": null,
   "id": "9c3e3396-261d-43ae-b220-c3316df4d963",
   "metadata": {},
   "outputs": [],
   "source": [
    "Support Vector Machine (SVR) Experiment:"
   ]
  },
  {
   "cell_type": "code",
   "execution_count": 40,
   "id": "2e878a87-6bb8-48d7-8f86-3e8a45bc26b6",
   "metadata": {},
   "outputs": [
    {
     "name": "stdout",
     "output_type": "stream",
     "text": [
      "SVR - Best Parameters: {'svr__C': 100, 'svr__kernel': 'linear'}\n",
      "SVR - Cross-validated RMSE scores: [71183.26305104 72934.79965967 69591.49250292 70369.86878205\n",
      " 74584.5951237  71301.2638405  70672.42401598 69741.36611909\n",
      " 72831.12455726 68785.9148642 ]\n",
      "SVR - Mean RMSE: 71199.6112516411\n",
      "SVR - Standard deviation of RMSE: 1692.52133750088\n"
     ]
    }
   ],
   "source": [
    "from sklearn.svm import SVR\n",
    "from sklearn.model_selection import GridSearchCV\n",
    "\n",
    "# 1. Define the SVR model and add it to the full pipeline\n",
    "svr_pipeline = Pipeline([\n",
    "    ('preprocessor', full_pipeline),\n",
    "    ('svr', SVR())  # Support Vector Machine Regressor\n",
    "])\n",
    "\n",
    "# 2. Define a grid of hyperparameters for tuning SVR\n",
    "param_grid = [\n",
    "    {'svr__kernel': ['linear'], 'svr__C': [0.1, 1, 10, 100]},\n",
    "    {'svr__kernel': ['rbf'], 'svr__C': [0.1, 1, 10, 100], 'svr__gamma': ['scale', 'auto']},\n",
    "]\n",
    "\n",
    "# 3. Perform GridSearchCV to find the best hyperparameters\n",
    "grid_search = GridSearchCV(svr_pipeline, param_grid, cv=5, scoring='neg_mean_squared_error', return_train_score=True)\n",
    "grid_search.fit(train_set, train_labels)\n",
    "\n",
    "# 4. Get the best SVR model and hyperparameters\n",
    "best_svr_pipeline = grid_search.best_estimator_\n",
    "\n",
    "# 5. Evaluate the best SVR model using cross-validation\n",
    "svr_scores = cross_val_score(best_svr_pipeline, train_set, train_labels, scoring=\"neg_mean_squared_error\", cv=10)\n",
    "svr_rmse_scores = (-svr_scores)**0.5\n",
    "\n",
    "# 6. Print the results of cross-validation for SVR\n",
    "print(\"SVR - Best Parameters:\", grid_search.best_params_)\n",
    "print(\"SVR - Cross-validated RMSE scores:\", svr_rmse_scores)\n",
    "print(\"SVR - Mean RMSE:\", svr_rmse_scores.mean())\n",
    "print(\"SVR - Standard deviation of RMSE:\", svr_rmse_scores.std())\n",
    "\n",
    "# 7. Make predictions using the best SVR model on the test set\n",
    "svr_test_predictions = best_svr_pipeline.predict(test_set)\n"
   ]
  },
  {
   "cell_type": "code",
   "execution_count": null,
   "id": "3c30542a-bb72-4657-8ed8-503184053c27",
   "metadata": {},
   "outputs": [],
   "source": [
    "Compare Models:"
   ]
  },
  {
   "cell_type": "code",
   "execution_count": 41,
   "id": "7d8dd4e3-e964-450d-a089-06f284332dba",
   "metadata": {},
   "outputs": [
    {
     "data": {
      "image/png": "[encoded data removed]",
      "text/plain": [
       "<Figure size 640x480 with 1 Axes>"
      ]
     },
     "metadata": {},
     "output_type": "display_data"
    }
   ],
   "source": [
    "import matplotlib.pyplot as plt\n",
    "\n",
    "# Gather the RMSE scores from all models\n",
    "models_rmse = {\n",
    "    'Linear Regression': linear_regression_rmse_scores,\n",
    "    'Decision Tree': decision_tree_rmse_scores,\n",
    "    'Random Forest': random_forest_rmse_scores,\n",
    "    'SVR': svr_rmse_scores\n",
    "}\n",
    "\n",
    "# Plot a comparison chart of RMSE for each model\n",
    "model_names = list(models_rmse.keys())\n",
    "mean_rmse_scores = [scores.mean() for scores in models_rmse.values()]\n",
    "std_rmse_scores = [scores.std() for scores in models_rmse.values()]\n",
    "\n",
    "# Create a bar plot\n",
    "plt.bar(model_names, mean_rmse_scores, yerr=std_rmse_scores, capsize=5)\n",
    "plt.ylabel('RMSE (lower is better)')\n",
    "plt.title('Model Comparison Based on RMSE')\n",
    "plt.show()\n"
   ]
  },
  {
   "cell_type": "code",
   "execution_count": null,
   "id": "3e303318-2936-4ccd-b39f-8c5dca19cf48",
   "metadata": {},
   "outputs": [],
   "source": []
  },
  {
   "cell_type": "code",
   "execution_count": null,
   "id": "2d439e46-2be7-43a8-a7f2-5f87c9964c25",
   "metadata": {},
   "outputs": [],
   "source": []
  },
  {
   "cell_type": "code",
   "execution_count": 24,
   "id": "02138cdd-6a57-4cd7-b7a8-1b13b46cf531",
   "metadata": {},
   "outputs": [
    {
     "data": {
      "image/png": "[encoded data removed]",
      "text/plain": [
       "<Figure size 1000x600 with 1 Axes>"
      ]
     },
     "metadata": {},
     "output_type": "display_data"
    }
   ],
   "source": [
    "import matplotlib.pyplot as plt\n",
    "\n",
    "# Data for plotting\n",
    "models = ['Linear Regression', 'Decision Tree', 'Random Forest']\n",
    "train_rmse = [68170.14, 0.0, 17819.31]  # Replace with actual values\n",
    "cv_rmse_mean = [68170.14, 68372.54, forest_rmse_mean]  # Replace with actual values\n",
    "cv_rmse_std = [1631.66, 2919.63, forest_rmse_std]  # Replace with actual values\n",
    "\n",
    "# Plotting\n",
    "fig, ax = plt.subplots(figsize=(10, 6))\n",
    "\n",
    "bar_width = 0.35\n",
    "index = range(len(models))\n",
    "\n",
    "bar1 = ax.bar(index, train_rmse, bar_width, label='Train RMSE')\n",
    "bar2 = ax.bar([i + bar_width for i in index], cv_rmse_mean, bar_width, yerr=cv_rmse_std, capsize=5, label='Cross-Val Mean RMSE')\n",
    "\n",
    "ax.set_xlabel('Model')\n",
    "ax.set_ylabel('RMSE')\n",
    "ax.set_title('Model Evaluation Comparison')\n",
    "ax.set_xticks([i + bar_width / 2 for i in index])\n",
    "ax.set_xticklabels(models)\n",
    "ax.legend()\n",
    "\n",
    "plt.tight_layout()\n",
    "plt.show()\n"
   ]
  },
  {
   "cell_type": "code",
   "execution_count": null,
   "id": "4ddbcfca-ef2b-4738-95e6-f62a92f6adcc",
   "metadata": {},
   "outputs": [],
   "source": []
  },
  {
   "cell_type": "code",
   "execution_count": null,
   "id": "25fac7b8-6b9c-4e65-bfe7-257a47470234",
   "metadata": {},
   "outputs": [],
   "source": []
  }
 ],
 "metadata": {
  "kernelspec": {
   "display_name": "Python 3 (ipykernel)",
   "language": "python",
   "name": "python3"
  },
  "language_info": {
   "codemirror_mode": {
    "name": "ipython",
    "version": 3
   },
   "file_extension": ".py",
   "mimetype": "text/x-python",
   "name": "python",
   "nbconvert_exporter": "python",
   "pygments_lexer": "ipython3",
   "version": "3.10.14"
  }
 },
 "nbformat": 4,
 "nbformat_minor": 5
}
